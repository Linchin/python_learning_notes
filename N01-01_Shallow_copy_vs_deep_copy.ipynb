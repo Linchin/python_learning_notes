{
 "cells": [
  {
   "cell_type": "markdown",
   "metadata": {},
   "source": [
    "# Shallow copy vs. deep copy\n",
    "\n",
    "ref: https://docs.python.org/2/library/copy.html\n",
    "\n",
    "\n",
    "\n",
    "Shallow copy: \n",
    "\n",
    "* Creates a new compound object \n",
    "\n",
    "* inserts *references* to the original into the new object.\n",
    "\n",
    "Deep copy:\n",
    "\n",
    "* Creates a new compound object \n",
    "\n",
    "* **Recursively**, inserts *copies* of the original into the new object.\n",
    "\n",
    "Deep copy has two problems:\n",
    "\n",
    "* Recursive object may cause a recursive loop.\n",
    "\n",
    "(This is solved by keeping track of the already copied objects in a dict.)\n",
    "\n",
    "* Too much information such as data might be copied as well.\n",
    "\n",
    "(This is resolved by allowing user do define classes that overide deep copy.)\n",
    "\n",
    "\n",
    "This sort of explains why python has this confusing shallow copy for most objects. Deep copy might get tricky with complicated objects. It takes some manual treatment to make it work right. Making shallow copy mandatory eliminates this problem. Also, shallow copy is more time and memory efficie\n"
   ]
  },
  {
   "cell_type": "code",
   "execution_count": null,
   "metadata": {},
   "outputs": [],
   "source": []
  }
 ],
 "metadata": {
  "kernelspec": {
   "display_name": "Python 3",
   "language": "python",
   "name": "python3"
  },
  "language_info": {
   "codemirror_mode": {
    "name": "ipython",
    "version": 3
   },
   "file_extension": ".py",
   "mimetype": "text/x-python",
   "name": "python",
   "nbconvert_exporter": "python",
   "pygments_lexer": "ipython3",
   "version": "3.6.3"
  }
 },
 "nbformat": 4,
 "nbformat_minor": 2
}
