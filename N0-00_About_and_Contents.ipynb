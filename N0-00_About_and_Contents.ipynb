{
 "cells": [
  {
   "cell_type": "markdown",
   "metadata": {},
   "source": [
    "## About\n",
    "\n",
    "This is the personal website for taking notes with regards to the techniques, tricks and philosophies while learning coding with python. When knowledge reaches a certain scale, it becomes way easier to write down the points systematically than to memorized them in head. Such organized writing also helps a deeper and more intuitive understanding of the language. \n",
    "\n",
    "I use this [google doc](https://docs.google.com/document/d/1D3LWB0g2847P_vPTuksYeryQrOLYFSoAsKO52zqKSDk/edit?usp=sharing) as a quick side note for this project.\n",
    "\n",
    "### Purpose\n",
    "\n",
    "* Track down and accumulate the pieces of knowledges encountered during learning python\n",
    "\n",
    "* Learn to think in perspective and from a bigger time scale\n",
    "\n",
    "* Accumulate knowledges for Linux also\n",
    "\n",
    "* Learn to be mindful of what I'm learning and adjust according to the situation\n",
    "\n",
    "* Learn version control.\n",
    "\n",
    "### Guidelines\n",
    "\n",
    "* Keep it simple and clear.\n",
    "\n",
    "* Don't get burdensome.\n",
    "\n",
    "* Don't miss the purpose: it's used to learn python and coding.\n",
    "\n",
    "* Don't forget your initial purpose.\n",
    "\n",
    "* Have a perspective.\n",
    "\n",
    "* Take it easy, don't take it hard.\n",
    "\n",
    "* It's going to take time.\n",
    "\n",
    "## Contents\n",
    "\n",
    "### python\n",
    "\n",
    "1. [Shallow copy vs. deep copy](N01-01_Shallow_copy_vs_deep_copy.ipynb)\n",
    "2. python philosophy\n",
    "3. Data types\n",
    "4. Built-in function\n",
    "5. Built-in constants\n",
    "6. Lambda function\n",
    "7. Succinct python lines\n",
    "\n",
    "### Data structure and algorithms\n",
    "\n",
    "1. Tree\n",
    "\n",
    "### Linux\n",
    "\n",
    "\n",
    "### Misc.\n",
    "\n",
    "1. [git basics](N3-01_git.ipynb)\n",
    "2. Markdown\n",
    "3. shortcuts for coding\n"
   ]
  },
  {
   "cell_type": "code",
   "execution_count": null,
   "metadata": {},
   "outputs": [],
   "source": []
  }
 ],
 "metadata": {
  "kernelspec": {
   "display_name": "Python 3",
   "language": "python",
   "name": "python3"
  },
  "language_info": {
   "codemirror_mode": {
    "name": "ipython",
    "version": 3
   },
   "file_extension": ".py",
   "mimetype": "text/x-python",
   "name": "python",
   "nbconvert_exporter": "python",
   "pygments_lexer": "ipython3",
   "version": "3.6.3"
  }
 },
 "nbformat": 4,
 "nbformat_minor": 2
}
