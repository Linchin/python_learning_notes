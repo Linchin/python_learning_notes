{
 "cells": [
  {
   "cell_type": "markdown",
   "metadata": {},
   "source": [
    "# The idea of git\n",
    "\n",
    "1. It is used for version control and collaboration\n",
    "\n",
    "2. Three repositories: remote master, local master, local. \n",
    "\n",
    "# Basic commands for git\n",
    "\n",
    "1. remote master to local master\n",
    "\n",
    "```console\n",
    "$ git clone\n",
    "```\n",
    "\n",
    "2. check current status\n",
    "\n",
    "```console\n",
    "$ git status\n",
    "```\n",
    "\n",
    "3. add new files to the local repository\n",
    "\n",
    "```console\n",
    "$git add \\*.\\*\n",
    "$git add -A\n",
    "```\n",
    "4. record local changes to local master\n",
    "```console\n",
    "$git commit -m \"lol this is a message.\"\n",
    "```\n",
    "\n",
    "5. send the update with local master to the remote master\n",
    "```console\n",
    "$git push\n",
    "```\n",
    "\n",
    "6. update local master to the latest remote version\n",
    "```console\n",
    "$git pull\n",
    "```\n"
   ]
  },
  {
   "cell_type": "code",
   "execution_count": null,
   "metadata": {},
   "outputs": [],
   "source": []
  },
  {
   "cell_type": "markdown",
   "metadata": {},
   "source": []
  }
 ],
 "metadata": {
  "kernelspec": {
   "display_name": "Python 3",
   "language": "python",
   "name": "python3"
  },
  "language_info": {
   "codemirror_mode": {
    "name": "ipython",
    "version": 3
   },
   "file_extension": ".py",
   "mimetype": "text/x-python",
   "name": "python",
   "nbconvert_exporter": "python",
   "pygments_lexer": "ipython3",
   "version": "3.6.3"
  }
 },
 "nbformat": 4,
 "nbformat_minor": 2
}
